{
 "cells": [
  {
   "cell_type": "code",
   "execution_count": 1,
   "id": "3087c318",
   "metadata": {},
   "outputs": [],
   "source": [
    "# Libraries\n",
    "#-----------\n",
    "\n",
    "# Pandas \n",
    "import pandas as pd\n",
    "import joblib # Persistence Model function\n",
    "\n",
    "\n",
    "# Algorithm\n",
    "# Decision Tree\n",
    "from sklearn.tree import DecisionTreeClassifier\n",
    "\n",
    "\n",
    "# Train Test Split function.\n",
    "from sklearn.model_selection import train_test_split\n",
    "\n",
    "# Accuracy Score function.\n",
    "from sklearn.metrics import accuracy_score\n"
   ]
  },
  {
   "cell_type": "code",
   "execution_count": 2,
   "id": "7b129190",
   "metadata": {},
   "outputs": [
    {
     "name": "stdout",
     "output_type": "stream",
     "text": [
      "vAlgo : Malicious URLs Model.\n",
      "Algorithm: Decision Tree.\n",
      "Version: 1.0\n"
     ]
    }
   ],
   "source": [
    "# General Steps\n",
    "#-----------------\n",
    "# 1: Import Data.\n",
    "# 2: Clean the data.\n",
    "# 3: Split the data.\n",
    "# 4: Create the model.\n",
    "# 5: Train the model.\n",
    "# 6: Make a prediction.\n",
    "# 7: Evaluate & Improve.\n",
    "# Create Persistent Model\n",
    "\n",
    "\n",
    "print(\"\"\"vAlgo : Malicious URLs Model.\n",
    "Algorithm: Decision Tree.\n",
    "Version: 1.0\"\"\")"
   ]
  },
  {
   "cell_type": "code",
   "execution_count": 3,
   "id": "833b3245",
   "metadata": {},
   "outputs": [
    {
     "data": {
      "text/plain": [
       "Index(['id', 'url_data'], dtype='object')"
      ]
     },
     "execution_count": 3,
     "metadata": {},
     "output_type": "execute_result"
    }
   ],
   "source": [
    "# 1: Import Data.\n",
    "# reading the csv file.\n",
    "df = pd.read_csv(\"day0-spit.csv\")\n",
    "# print the column names.\n",
    "df.columns\n"
   ]
  },
  {
   "cell_type": "code",
   "execution_count": 4,
   "id": "e863d3fd",
   "metadata": {},
   "outputs": [],
   "source": [
    "# 2: Clean the data.\n",
    "# The data has been previously cleaned.\n",
    "# Create the Input & Output sets.\n",
    "\n",
    "# Input Set : X\n",
    "X = df[['id']]\n",
    "\n",
    "# Output Set : y\n",
    "y = df['url_data']\n"
   ]
  },
  {
   "cell_type": "code",
   "execution_count": 5,
   "id": "3035c507",
   "metadata": {},
   "outputs": [],
   "source": [
    "# 3: Split the data.\n",
    "# Using the Train Test Split function for an 80/20 split.\n",
    "X_train, X_test, y_train, y_test = train_test_split(X, y, test_size=0.2)"
   ]
  },
  {
   "cell_type": "code",
   "execution_count": 6,
   "id": "2beaf0f8",
   "metadata": {},
   "outputs": [],
   "source": [
    "# 4: Create the model.\n",
    "model = DecisionTreeClassifier()"
   ]
  },
  {
   "cell_type": "code",
   "execution_count": 7,
   "id": "68900062",
   "metadata": {},
   "outputs": [
    {
     "data": {
      "text/plain": [
       "DecisionTreeClassifier()"
      ]
     },
     "execution_count": 7,
     "metadata": {},
     "output_type": "execute_result"
    }
   ],
   "source": [
    "# 5: Train the model.\n",
    "model.fit(X_train, y_train)"
   ]
  },
  {
   "cell_type": "code",
   "execution_count": 8,
   "id": "658cd693",
   "metadata": {},
   "outputs": [
    {
     "name": "stdout",
     "output_type": "stream",
     "text": [
      "0.03%\n"
     ]
    }
   ],
   "source": [
    "# 6: Make a prediction.\n",
    "# The prediction\n",
    "prediction = model.predict(X_test)\n",
    "\n",
    "# The accuracy : using the accuracy score funtion\n",
    "score = accuracy_score(y_test, prediction)\n",
    "\n",
    "# Display the score as a percentage.\n",
    "print(\"{:.2%}\".format(score))\n"
   ]
  },
  {
   "cell_type": "code",
   "execution_count": 9,
   "id": "5bfee762",
   "metadata": {},
   "outputs": [],
   "source": [
    "# 7: Evaluate & Improve.\n",
    "# Look into using AdaBoost or XGBoost with the current DT model.\n",
    "# Look into a Logical Regression model.\n",
    "# If the results are significatly better with the above options, then create a new bigger dataset.\n"
   ]
  },
  {
   "cell_type": "code",
   "execution_count": 10,
   "id": "97a84584",
   "metadata": {},
   "outputs": [],
   "source": [
    "# Create Persistent Model\n",
    "# joblib.dump(model,\"file-name.jblib\")\n",
    "\n",
    "# To use the model\n",
    "# model = joblib.load(\"file-name.joblib\")\n",
    "# Give it a new data to predict.\n",
    "# prediction = model.predict([[#]])"
   ]
  }
 ],
 "metadata": {
  "kernelspec": {
   "display_name": "Python 3 (ipykernel)",
   "language": "python",
   "name": "python3"
  },
  "language_info": {
   "codemirror_mode": {
    "name": "ipython",
    "version": 3
   },
   "file_extension": ".py",
   "mimetype": "text/x-python",
   "name": "python",
   "nbconvert_exporter": "python",
   "pygments_lexer": "ipython3",
   "version": "3.9.12"
  }
 },
 "nbformat": 4,
 "nbformat_minor": 5
}
